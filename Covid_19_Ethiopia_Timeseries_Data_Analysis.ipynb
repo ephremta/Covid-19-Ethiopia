{
  "nbformat": 4,
  "nbformat_minor": 0,
  "metadata": {
    "colab": {
      "name": "Covid-19-Ethiopia Timeseries Data Analysis.ipynb",
      "provenance": [],
      "collapsed_sections": []
    },
    "kernelspec": {
      "name": "python3",
      "display_name": "Python 3"
    }
  },
  "cells": [
    {
      "cell_type": "code",
      "metadata": {
        "id": "CEFqcWjx4AUw",
        "colab_type": "code",
        "colab": {}
      },
      "source": [
        "import seaborn as sns\n",
        "import matplotlib.pyplot as plt\n",
        "import pandas as pd\n",
        "import numpy as np\n",
        "from google.colab import files\n"
      ],
      "execution_count": 0,
      "outputs": []
    },
    {
      "cell_type": "code",
      "metadata": {
        "id": "b-bW7DwO5WLq",
        "colab_type": "code",
        "outputId": "e4e9750c-ec8e-4e06-f8e8-155ce0ee34c2",
        "colab": {
          "resources": {
            "http://localhost:8080/nbextensions/google.colab/files.js": {
              "data": "Ly8gQ29weXJpZ2h0IDIwMTcgR29vZ2xlIExMQwovLwovLyBMaWNlbnNlZCB1bmRlciB0aGUgQXBhY2hlIExpY2Vuc2UsIFZlcnNpb24gMi4wICh0aGUgIkxpY2Vuc2UiKTsKLy8geW91IG1heSBub3QgdXNlIHRoaXMgZmlsZSBleGNlcHQgaW4gY29tcGxpYW5jZSB3aXRoIHRoZSBMaWNlbnNlLgovLyBZb3UgbWF5IG9idGFpbiBhIGNvcHkgb2YgdGhlIExpY2Vuc2UgYXQKLy8KLy8gICAgICBodHRwOi8vd3d3LmFwYWNoZS5vcmcvbGljZW5zZXMvTElDRU5TRS0yLjAKLy8KLy8gVW5sZXNzIHJlcXVpcmVkIGJ5IGFwcGxpY2FibGUgbGF3IG9yIGFncmVlZCB0byBpbiB3cml0aW5nLCBzb2Z0d2FyZQovLyBkaXN0cmlidXRlZCB1bmRlciB0aGUgTGljZW5zZSBpcyBkaXN0cmlidXRlZCBvbiBhbiAiQVMgSVMiIEJBU0lTLAovLyBXSVRIT1VUIFdBUlJBTlRJRVMgT1IgQ09ORElUSU9OUyBPRiBBTlkgS0lORCwgZWl0aGVyIGV4cHJlc3Mgb3IgaW1wbGllZC4KLy8gU2VlIHRoZSBMaWNlbnNlIGZvciB0aGUgc3BlY2lmaWMgbGFuZ3VhZ2UgZ292ZXJuaW5nIHBlcm1pc3Npb25zIGFuZAovLyBsaW1pdGF0aW9ucyB1bmRlciB0aGUgTGljZW5zZS4KCi8qKgogKiBAZmlsZW92ZXJ2aWV3IEhlbHBlcnMgZm9yIGdvb2dsZS5jb2xhYiBQeXRob24gbW9kdWxlLgogKi8KKGZ1bmN0aW9uKHNjb3BlKSB7CmZ1bmN0aW9uIHNwYW4odGV4dCwgc3R5bGVBdHRyaWJ1dGVzID0ge30pIHsKICBjb25zdCBlbGVtZW50ID0gZG9jdW1lbnQuY3JlYXRlRWxlbWVudCgnc3BhbicpOwogIGVsZW1lbnQudGV4dENvbnRlbnQgPSB0ZXh0OwogIGZvciAoY29uc3Qga2V5IG9mIE9iamVjdC5rZXlzKHN0eWxlQXR0cmlidXRlcykpIHsKICAgIGVsZW1lbnQuc3R5bGVba2V5XSA9IHN0eWxlQXR0cmlidXRlc1trZXldOwogIH0KICByZXR1cm4gZWxlbWVudDsKfQoKLy8gTWF4IG51bWJlciBvZiBieXRlcyB3aGljaCB3aWxsIGJlIHVwbG9hZGVkIGF0IGEgdGltZS4KY29uc3QgTUFYX1BBWUxPQURfU0laRSA9IDEwMCAqIDEwMjQ7Ci8vIE1heCBhbW91bnQgb2YgdGltZSB0byBibG9jayB3YWl0aW5nIGZvciB0aGUgdXNlci4KY29uc3QgRklMRV9DSEFOR0VfVElNRU9VVF9NUyA9IDMwICogMTAwMDsKCmZ1bmN0aW9uIF91cGxvYWRGaWxlcyhpbnB1dElkLCBvdXRwdXRJZCkgewogIGNvbnN0IHN0ZXBzID0gdXBsb2FkRmlsZXNTdGVwKGlucHV0SWQsIG91dHB1dElkKTsKICBjb25zdCBvdXRwdXRFbGVtZW50ID0gZG9jdW1lbnQuZ2V0RWxlbWVudEJ5SWQob3V0cHV0SWQpOwogIC8vIENhY2hlIHN0ZXBzIG9uIHRoZSBvdXRwdXRFbGVtZW50IHRvIG1ha2UgaXQgYXZhaWxhYmxlIGZvciB0aGUgbmV4dCBjYWxsCiAgLy8gdG8gdXBsb2FkRmlsZXNDb250aW51ZSBmcm9tIFB5dGhvbi4KICBvdXRwdXRFbGVtZW50LnN0ZXBzID0gc3RlcHM7CgogIHJldHVybiBfdXBsb2FkRmlsZXNDb250aW51ZShvdXRwdXRJZCk7Cn0KCi8vIFRoaXMgaXMgcm91Z2hseSBhbiBhc3luYyBnZW5lcmF0b3IgKG5vdCBzdXBwb3J0ZWQgaW4gdGhlIGJyb3dzZXIgeWV0KSwKLy8gd2hlcmUgdGhlcmUgYXJlIG11bHRpcGxlIGFzeW5jaHJvbm91cyBzdGVwcyBhbmQgdGhlIFB5dGhvbiBzaWRlIGlzIGdvaW5nCi8vIHRvIHBvbGwgZm9yIGNvbXBsZXRpb24gb2YgZWFjaCBzdGVwLgovLyBUaGlzIHVzZXMgYSBQcm9taXNlIHRvIGJsb2NrIHRoZSBweXRob24gc2lkZSBvbiBjb21wbGV0aW9uIG9mIGVhY2ggc3RlcCwKLy8gdGhlbiBwYXNzZXMgdGhlIHJlc3VsdCBvZiB0aGUgcHJldmlvdXMgc3RlcCBhcyB0aGUgaW5wdXQgdG8gdGhlIG5leHQgc3RlcC4KZnVuY3Rpb24gX3VwbG9hZEZpbGVzQ29udGludWUob3V0cHV0SWQpIHsKICBjb25zdCBvdXRwdXRFbGVtZW50ID0gZG9jdW1lbnQuZ2V0RWxlbWVudEJ5SWQob3V0cHV0SWQpOwogIGNvbnN0IHN0ZXBzID0gb3V0cHV0RWxlbWVudC5zdGVwczsKCiAgY29uc3QgbmV4dCA9IHN0ZXBzLm5leHQob3V0cHV0RWxlbWVudC5sYXN0UHJvbWlzZVZhbHVlKTsKICByZXR1cm4gUHJvbWlzZS5yZXNvbHZlKG5leHQudmFsdWUucHJvbWlzZSkudGhlbigodmFsdWUpID0+IHsKICAgIC8vIENhY2hlIHRoZSBsYXN0IHByb21pc2UgdmFsdWUgdG8gbWFrZSBpdCBhdmFpbGFibGUgdG8gdGhlIG5leHQKICAgIC8vIHN0ZXAgb2YgdGhlIGdlbmVyYXRvci4KICAgIG91dHB1dEVsZW1lbnQubGFzdFByb21pc2VWYWx1ZSA9IHZhbHVlOwogICAgcmV0dXJuIG5leHQudmFsdWUucmVzcG9uc2U7CiAgfSk7Cn0KCi8qKgogKiBHZW5lcmF0b3IgZnVuY3Rpb24gd2hpY2ggaXMgY2FsbGVkIGJldHdlZW4gZWFjaCBhc3luYyBzdGVwIG9mIHRoZSB1cGxvYWQKICogcHJvY2Vzcy4KICogQHBhcmFtIHtzdHJpbmd9IGlucHV0SWQgRWxlbWVudCBJRCBvZiB0aGUgaW5wdXQgZmlsZSBwaWNrZXIgZWxlbWVudC4KICogQHBhcmFtIHtzdHJpbmd9IG91dHB1dElkIEVsZW1lbnQgSUQgb2YgdGhlIG91dHB1dCBkaXNwbGF5LgogKiBAcmV0dXJuIHshSXRlcmFibGU8IU9iamVjdD59IEl0ZXJhYmxlIG9mIG5leHQgc3RlcHMuCiAqLwpmdW5jdGlvbiogdXBsb2FkRmlsZXNTdGVwKGlucHV0SWQsIG91dHB1dElkKSB7CiAgY29uc3QgaW5wdXRFbGVtZW50ID0gZG9jdW1lbnQuZ2V0RWxlbWVudEJ5SWQoaW5wdXRJZCk7CiAgaW5wdXRFbGVtZW50LmRpc2FibGVkID0gZmFsc2U7CgogIGNvbnN0IG91dHB1dEVsZW1lbnQgPSBkb2N1bWVudC5nZXRFbGVtZW50QnlJZChvdXRwdXRJZCk7CiAgb3V0cHV0RWxlbWVudC5pbm5lckhUTUwgPSAnJzsKCiAgY29uc3QgcGlja2VkUHJvbWlzZSA9IG5ldyBQcm9taXNlKChyZXNvbHZlKSA9PiB7CiAgICBpbnB1dEVsZW1lbnQuYWRkRXZlbnRMaXN0ZW5lcignY2hhbmdlJywgKGUpID0+IHsKICAgICAgcmVzb2x2ZShlLnRhcmdldC5maWxlcyk7CiAgICB9KTsKICB9KTsKCiAgY29uc3QgY2FuY2VsID0gZG9jdW1lbnQuY3JlYXRlRWxlbWVudCgnYnV0dG9uJyk7CiAgaW5wdXRFbGVtZW50LnBhcmVudEVsZW1lbnQuYXBwZW5kQ2hpbGQoY2FuY2VsKTsKICBjYW5jZWwudGV4dENvbnRlbnQgPSAnQ2FuY2VsIHVwbG9hZCc7CiAgY29uc3QgY2FuY2VsUHJvbWlzZSA9IG5ldyBQcm9taXNlKChyZXNvbHZlKSA9PiB7CiAgICBjYW5jZWwub25jbGljayA9ICgpID0+IHsKICAgICAgcmVzb2x2ZShudWxsKTsKICAgIH07CiAgfSk7CgogIC8vIENhbmNlbCB1cGxvYWQgaWYgdXNlciBoYXNuJ3QgcGlja2VkIGFueXRoaW5nIGluIHRpbWVvdXQuCiAgY29uc3QgdGltZW91dFByb21pc2UgPSBuZXcgUHJvbWlzZSgocmVzb2x2ZSkgPT4gewogICAgc2V0VGltZW91dCgoKSA9PiB7CiAgICAgIHJlc29sdmUobnVsbCk7CiAgICB9LCBGSUxFX0NIQU5HRV9USU1FT1VUX01TKTsKICB9KTsKCiAgLy8gV2FpdCBmb3IgdGhlIHVzZXIgdG8gcGljayB0aGUgZmlsZXMuCiAgY29uc3QgZmlsZXMgPSB5aWVsZCB7CiAgICBwcm9taXNlOiBQcm9taXNlLnJhY2UoW3BpY2tlZFByb21pc2UsIHRpbWVvdXRQcm9taXNlLCBjYW5jZWxQcm9taXNlXSksCiAgICByZXNwb25zZTogewogICAgICBhY3Rpb246ICdzdGFydGluZycsCiAgICB9CiAgfTsKCiAgaWYgKCFmaWxlcykgewogICAgcmV0dXJuIHsKICAgICAgcmVzcG9uc2U6IHsKICAgICAgICBhY3Rpb246ICdjb21wbGV0ZScsCiAgICAgIH0KICAgIH07CiAgfQoKICBjYW5jZWwucmVtb3ZlKCk7CgogIC8vIERpc2FibGUgdGhlIGlucHV0IGVsZW1lbnQgc2luY2UgZnVydGhlciBwaWNrcyBhcmUgbm90IGFsbG93ZWQuCiAgaW5wdXRFbGVtZW50LmRpc2FibGVkID0gdHJ1ZTsKCiAgZm9yIChjb25zdCBmaWxlIG9mIGZpbGVzKSB7CiAgICBjb25zdCBsaSA9IGRvY3VtZW50LmNyZWF0ZUVsZW1lbnQoJ2xpJyk7CiAgICBsaS5hcHBlbmQoc3BhbihmaWxlLm5hbWUsIHtmb250V2VpZ2h0OiAnYm9sZCd9KSk7CiAgICBsaS5hcHBlbmQoc3BhbigKICAgICAgICBgKCR7ZmlsZS50eXBlIHx8ICduL2EnfSkgLSAke2ZpbGUuc2l6ZX0gYnl0ZXMsIGAgKwogICAgICAgIGBsYXN0IG1vZGlmaWVkOiAkewogICAgICAgICAgICBmaWxlLmxhc3RNb2RpZmllZERhdGUgPyBmaWxlLmxhc3RNb2RpZmllZERhdGUudG9Mb2NhbGVEYXRlU3RyaW5nKCkgOgogICAgICAgICAgICAgICAgICAgICAgICAgICAgICAgICAgICAnbi9hJ30gLSBgKSk7CiAgICBjb25zdCBwZXJjZW50ID0gc3BhbignMCUgZG9uZScpOwogICAgbGkuYXBwZW5kQ2hpbGQocGVyY2VudCk7CgogICAgb3V0cHV0RWxlbWVudC5hcHBlbmRDaGlsZChsaSk7CgogICAgY29uc3QgZmlsZURhdGFQcm9taXNlID0gbmV3IFByb21pc2UoKHJlc29sdmUpID0+IHsKICAgICAgY29uc3QgcmVhZGVyID0gbmV3IEZpbGVSZWFkZXIoKTsKICAgICAgcmVhZGVyLm9ubG9hZCA9IChlKSA9PiB7CiAgICAgICAgcmVzb2x2ZShlLnRhcmdldC5yZXN1bHQpOwogICAgICB9OwogICAgICByZWFkZXIucmVhZEFzQXJyYXlCdWZmZXIoZmlsZSk7CiAgICB9KTsKICAgIC8vIFdhaXQgZm9yIHRoZSBkYXRhIHRvIGJlIHJlYWR5LgogICAgbGV0IGZpbGVEYXRhID0geWllbGQgewogICAgICBwcm9taXNlOiBmaWxlRGF0YVByb21pc2UsCiAgICAgIHJlc3BvbnNlOiB7CiAgICAgICAgYWN0aW9uOiAnY29udGludWUnLAogICAgICB9CiAgICB9OwoKICAgIC8vIFVzZSBhIGNodW5rZWQgc2VuZGluZyB0byBhdm9pZCBtZXNzYWdlIHNpemUgbGltaXRzLiBTZWUgYi82MjExNTY2MC4KICAgIGxldCBwb3NpdGlvbiA9IDA7CiAgICB3aGlsZSAocG9zaXRpb24gPCBmaWxlRGF0YS5ieXRlTGVuZ3RoKSB7CiAgICAgIGNvbnN0IGxlbmd0aCA9IE1hdGgubWluKGZpbGVEYXRhLmJ5dGVMZW5ndGggLSBwb3NpdGlvbiwgTUFYX1BBWUxPQURfU0laRSk7CiAgICAgIGNvbnN0IGNodW5rID0gbmV3IFVpbnQ4QXJyYXkoZmlsZURhdGEsIHBvc2l0aW9uLCBsZW5ndGgpOwogICAgICBwb3NpdGlvbiArPSBsZW5ndGg7CgogICAgICBjb25zdCBiYXNlNjQgPSBidG9hKFN0cmluZy5mcm9tQ2hhckNvZGUuYXBwbHkobnVsbCwgY2h1bmspKTsKICAgICAgeWllbGQgewogICAgICAgIHJlc3BvbnNlOiB7CiAgICAgICAgICBhY3Rpb246ICdhcHBlbmQnLAogICAgICAgICAgZmlsZTogZmlsZS5uYW1lLAogICAgICAgICAgZGF0YTogYmFzZTY0LAogICAgICAgIH0sCiAgICAgIH07CiAgICAgIHBlcmNlbnQudGV4dENvbnRlbnQgPQogICAgICAgICAgYCR7TWF0aC5yb3VuZCgocG9zaXRpb24gLyBmaWxlRGF0YS5ieXRlTGVuZ3RoKSAqIDEwMCl9JSBkb25lYDsKICAgIH0KICB9CgogIC8vIEFsbCBkb25lLgogIHlpZWxkIHsKICAgIHJlc3BvbnNlOiB7CiAgICAgIGFjdGlvbjogJ2NvbXBsZXRlJywKICAgIH0KICB9Owp9CgpzY29wZS5nb29nbGUgPSBzY29wZS5nb29nbGUgfHwge307CnNjb3BlLmdvb2dsZS5jb2xhYiA9IHNjb3BlLmdvb2dsZS5jb2xhYiB8fCB7fTsKc2NvcGUuZ29vZ2xlLmNvbGFiLl9maWxlcyA9IHsKICBfdXBsb2FkRmlsZXMsCiAgX3VwbG9hZEZpbGVzQ29udGludWUsCn07Cn0pKHNlbGYpOwo=",
              "ok": true,
              "headers": [
                [
                  "content-type",
                  "application/javascript"
                ]
              ],
              "status": 200,
              "status_text": ""
            }
          },
          "base_uri": "https://localhost:8080/",
          "height": 74
        }
      },
      "source": [
        "#upload files from to the colab directory\n",
        "upload_file=files.upload()"
      ],
      "execution_count": 102,
      "outputs": [
        {
          "output_type": "display_data",
          "data": {
            "text/html": [
              "\n",
              "     <input type=\"file\" id=\"files-3b70bd6a-7508-4ad3-9cd2-a7d02f5e5869\" name=\"files[]\" multiple disabled />\n",
              "     <output id=\"result-3b70bd6a-7508-4ad3-9cd2-a7d02f5e5869\">\n",
              "      Upload widget is only available when the cell has been executed in the\n",
              "      current browser session. Please rerun this cell to enable.\n",
              "      </output>\n",
              "      <script src=\"/nbextensions/google.colab/files.js\"></script> "
            ],
            "text/plain": [
              "<IPython.core.display.HTML object>"
            ]
          },
          "metadata": {
            "tags": []
          }
        },
        {
          "output_type": "stream",
          "text": [
            "Saving Covid-19-ethiopia-modified3.CSV to Covid-19-ethiopia-modified3.CSV\n"
          ],
          "name": "stdout"
        }
      ]
    },
    {
      "cell_type": "code",
      "metadata": {
        "id": "qlDdgrpE6az2",
        "colab_type": "code",
        "outputId": "b2689605-9ffc-474f-d9e9-3bb3cbece0c7",
        "colab": {
          "base_uri": "https://localhost:8080/",
          "height": 204
        }
      },
      "source": [
        "#read files using pandas dataframe libraru\n",
        "data= pd.read_csv('Covid-19-ethiopia-modified3.CSV', encoding='utf-8-sig',engine='python')\n",
        "#look into the data frames\n",
        "data.head()\n"
      ],
      "execution_count": 103,
      "outputs": [
        {
          "output_type": "execute_result",
          "data": {
            "text/html": [
              "<div>\n",
              "<style scoped>\n",
              "    .dataframe tbody tr th:only-of-type {\n",
              "        vertical-align: middle;\n",
              "    }\n",
              "\n",
              "    .dataframe tbody tr th {\n",
              "        vertical-align: top;\n",
              "    }\n",
              "\n",
              "    .dataframe thead th {\n",
              "        text-align: right;\n",
              "    }\n",
              "</style>\n",
              "<table border=\"1\" class=\"dataframe\">\n",
              "  <thead>\n",
              "    <tr style=\"text-align: right;\">\n",
              "      <th></th>\n",
              "      <th>Date</th>\n",
              "      <th>Country/Region</th>\n",
              "      <th>Lat</th>\n",
              "      <th>Long</th>\n",
              "      <th>confirmed/per_date</th>\n",
              "      <th>Total_Confirmed</th>\n",
              "      <th>Recovered/date</th>\n",
              "      <th>Total_Recovered</th>\n",
              "      <th>Deaths/per_date</th>\n",
              "      <th>Deaths</th>\n",
              "    </tr>\n",
              "  </thead>\n",
              "  <tbody>\n",
              "    <tr>\n",
              "      <th>0</th>\n",
              "      <td>1/22/2020</td>\n",
              "      <td>Ethiopia</td>\n",
              "      <td>9.145</td>\n",
              "      <td>40.489</td>\n",
              "      <td>0</td>\n",
              "      <td>0</td>\n",
              "      <td>0</td>\n",
              "      <td>0</td>\n",
              "      <td>0</td>\n",
              "      <td>0</td>\n",
              "    </tr>\n",
              "    <tr>\n",
              "      <th>1</th>\n",
              "      <td>1/23/2020</td>\n",
              "      <td>Ethiopia</td>\n",
              "      <td>9.145</td>\n",
              "      <td>40.489</td>\n",
              "      <td>0</td>\n",
              "      <td>0</td>\n",
              "      <td>0</td>\n",
              "      <td>0</td>\n",
              "      <td>0</td>\n",
              "      <td>0</td>\n",
              "    </tr>\n",
              "    <tr>\n",
              "      <th>2</th>\n",
              "      <td>1/24/2020</td>\n",
              "      <td>Ethiopia</td>\n",
              "      <td>9.145</td>\n",
              "      <td>40.489</td>\n",
              "      <td>0</td>\n",
              "      <td>0</td>\n",
              "      <td>0</td>\n",
              "      <td>0</td>\n",
              "      <td>0</td>\n",
              "      <td>0</td>\n",
              "    </tr>\n",
              "    <tr>\n",
              "      <th>3</th>\n",
              "      <td>1/25/2020</td>\n",
              "      <td>Ethiopia</td>\n",
              "      <td>9.145</td>\n",
              "      <td>40.489</td>\n",
              "      <td>0</td>\n",
              "      <td>0</td>\n",
              "      <td>0</td>\n",
              "      <td>0</td>\n",
              "      <td>0</td>\n",
              "      <td>0</td>\n",
              "    </tr>\n",
              "    <tr>\n",
              "      <th>4</th>\n",
              "      <td>1/26/2020</td>\n",
              "      <td>Ethiopia</td>\n",
              "      <td>9.145</td>\n",
              "      <td>40.489</td>\n",
              "      <td>0</td>\n",
              "      <td>0</td>\n",
              "      <td>0</td>\n",
              "      <td>0</td>\n",
              "      <td>0</td>\n",
              "      <td>0</td>\n",
              "    </tr>\n",
              "  </tbody>\n",
              "</table>\n",
              "</div>"
            ],
            "text/plain": [
              "        Date Country/Region    Lat  ...  Total_Recovered  Deaths/per_date  Deaths\n",
              "0  1/22/2020       Ethiopia  9.145  ...                0                0       0\n",
              "1  1/23/2020       Ethiopia  9.145  ...                0                0       0\n",
              "2  1/24/2020       Ethiopia  9.145  ...                0                0       0\n",
              "3  1/25/2020       Ethiopia  9.145  ...                0                0       0\n",
              "4  1/26/2020       Ethiopia  9.145  ...                0                0       0\n",
              "\n",
              "[5 rows x 10 columns]"
            ]
          },
          "metadata": {
            "tags": []
          },
          "execution_count": 103
        }
      ]
    },
    {
      "cell_type": "code",
      "metadata": {
        "id": "KMZQEtYpA_Vu",
        "colab_type": "code",
        "outputId": "94e8c836-fe89-457b-d8ee-dcbbd727f1f9",
        "colab": {
          "base_uri": "https://localhost:8080/",
          "height": 85
        }
      },
      "source": [
        "data.columns\n",
        "#just to clean out \\nnnnn \\aaa and other unknown values\n",
        "data.columns.str.replace('\\n','', regex=True)\n"
      ],
      "execution_count": 104,
      "outputs": [
        {
          "output_type": "execute_result",
          "data": {
            "text/plain": [
              "Index(['Date', 'Country/Region', 'Lat', 'Long', 'confirmed/per_date',\n",
              "       'Total_Confirmed', 'Recovered/date', 'Total_Recovered',\n",
              "       'Deaths/per_date', 'Deaths'],\n",
              "      dtype='object')"
            ]
          },
          "metadata": {
            "tags": []
          },
          "execution_count": 104
        }
      ]
    },
    {
      "cell_type": "code",
      "metadata": {
        "id": "VUFhOd2fGzY9",
        "colab_type": "code",
        "colab": {}
      },
      "source": [
        "#we can use Amharic labels or any langauge what so ever you wnats to label\n",
        "#data.rename(columns={'Date':'ቀን', 'Country/Region':'ሃገር', 'Lat':'ላቲትዩድ', 'Long':'ሎንግቲዩድ','confirmed/per_date':'በዛሬው_እለት_የተያዙ','Total_Confirmed':'ጠቅላላ_በበሽታው_የተያዙ','Recovered/date':'በዛሬው_እለት_ያገገሙ' ,'Total_Recovered':'ጠቅላላ_ከበሽታው_ያገገሙ','Deaths/per_date':'በዛሬው_እለት_የሞቱ' ,'Deaths':'ጠቅላላ_በበሽታው_የሞቱ'},inplace=True)"
      ],
      "execution_count": 0,
      "outputs": []
    },
    {
      "cell_type": "code",
      "metadata": {
        "id": "HSgILmDMGCU3",
        "colab_type": "code",
        "colab": {}
      },
      "source": [
        "#just rename some column name into reasonable names\n",
        "data.rename(columns={'Date':'Date', 'Country/Region':'Country', 'Lat':'Lat', 'Long':'Long','confirmed/per_date':'confirmed_per_date','Total_Confirmed':'Total_cases_Confirmed','Recovered/date':'Recovered_per_date' ,'Total_Recovered':'Total_Recovered','Deaths/per_date':'Deaths_per_date' ,'Deaths':'Deaths'},inplace=True)"
      ],
      "execution_count": 0,
      "outputs": []
    },
    {
      "cell_type": "code",
      "metadata": {
        "id": "70PlzUkIE1ef",
        "colab_type": "code",
        "outputId": "fab7e96c-f284-4668-8fc8-868840d95a8e",
        "colab": {
          "base_uri": "https://localhost:8080/",
          "height": 85
        }
      },
      "source": [
        "data.columns\n"
      ],
      "execution_count": 119,
      "outputs": [
        {
          "output_type": "execute_result",
          "data": {
            "text/plain": [
              "Index(['Date', 'Country', 'Lat', 'Long', 'confirmed_per_date',\n",
              "       'Total_cases_Confirmed', 'Recovered_per_date', 'Total_Recovered',\n",
              "       'Deaths_per_date', 'Deaths'],\n",
              "      dtype='object')"
            ]
          },
          "metadata": {
            "tags": []
          },
          "execution_count": 119
        }
      ]
    },
    {
      "cell_type": "code",
      "metadata": {
        "id": "jSBcwK9aG41n",
        "colab_type": "code",
        "outputId": "273ca770-541b-4fef-929a-55202dc88e66",
        "colab": {
          "base_uri": "https://localhost:8080/",
          "height": 34
        }
      },
      "source": [
        "#shape of data rows*columns\n",
        "data.shape\n"
      ],
      "execution_count": 7,
      "outputs": [
        {
          "output_type": "execute_result",
          "data": {
            "text/plain": [
              "(141, 10)"
            ]
          },
          "metadata": {
            "tags": []
          },
          "execution_count": 7
        }
      ]
    },
    {
      "cell_type": "code",
      "metadata": {
        "id": "dpJLnMJ9HCwU",
        "colab_type": "code",
        "outputId": "9c96e092-3419-49f9-9da2-5b68668c90d3",
        "colab": {
          "base_uri": "https://localhost:8080/",
          "height": 204
        }
      },
      "source": [
        "#data types of columns\n",
        "data.dtypes"
      ],
      "execution_count": 108,
      "outputs": [
        {
          "output_type": "execute_result",
          "data": {
            "text/plain": [
              "Date                   object\n",
              "Country                object\n",
              "Lat                   float64\n",
              "Long                  float64\n",
              "confirmed_per_date      int64\n",
              "Total_Confirmed         int64\n",
              "Recovered_per_date      int64\n",
              "Total_Recovered         int64\n",
              "Deaths_per_date         int64\n",
              "Deaths                  int64\n",
              "dtype: object"
            ]
          },
          "metadata": {
            "tags": []
          },
          "execution_count": 108
        }
      ]
    },
    {
      "cell_type": "code",
      "metadata": {
        "id": "LrZJ7VR5HN4m",
        "colab_type": "code",
        "outputId": "cf0eb9a7-7842-426b-b376-fd046fa3b3a3",
        "colab": {
          "base_uri": "https://localhost:8080/",
          "height": 359
        }
      },
      "source": [
        "#show me first 20 days data\n",
        "data.head(10)"
      ],
      "execution_count": 120,
      "outputs": [
        {
          "output_type": "execute_result",
          "data": {
            "text/html": [
              "<div>\n",
              "<style scoped>\n",
              "    .dataframe tbody tr th:only-of-type {\n",
              "        vertical-align: middle;\n",
              "    }\n",
              "\n",
              "    .dataframe tbody tr th {\n",
              "        vertical-align: top;\n",
              "    }\n",
              "\n",
              "    .dataframe thead th {\n",
              "        text-align: right;\n",
              "    }\n",
              "</style>\n",
              "<table border=\"1\" class=\"dataframe\">\n",
              "  <thead>\n",
              "    <tr style=\"text-align: right;\">\n",
              "      <th></th>\n",
              "      <th>Date</th>\n",
              "      <th>Country</th>\n",
              "      <th>Lat</th>\n",
              "      <th>Long</th>\n",
              "      <th>confirmed_per_date</th>\n",
              "      <th>Total_cases_Confirmed</th>\n",
              "      <th>Recovered_per_date</th>\n",
              "      <th>Total_Recovered</th>\n",
              "      <th>Deaths_per_date</th>\n",
              "      <th>Deaths</th>\n",
              "    </tr>\n",
              "  </thead>\n",
              "  <tbody>\n",
              "    <tr>\n",
              "      <th>0</th>\n",
              "      <td>1/22/2020</td>\n",
              "      <td>Ethiopia</td>\n",
              "      <td>9.145</td>\n",
              "      <td>40.489</td>\n",
              "      <td>0</td>\n",
              "      <td>0</td>\n",
              "      <td>0</td>\n",
              "      <td>0</td>\n",
              "      <td>0</td>\n",
              "      <td>0</td>\n",
              "    </tr>\n",
              "    <tr>\n",
              "      <th>1</th>\n",
              "      <td>1/23/2020</td>\n",
              "      <td>Ethiopia</td>\n",
              "      <td>9.145</td>\n",
              "      <td>40.489</td>\n",
              "      <td>0</td>\n",
              "      <td>0</td>\n",
              "      <td>0</td>\n",
              "      <td>0</td>\n",
              "      <td>0</td>\n",
              "      <td>0</td>\n",
              "    </tr>\n",
              "    <tr>\n",
              "      <th>2</th>\n",
              "      <td>1/24/2020</td>\n",
              "      <td>Ethiopia</td>\n",
              "      <td>9.145</td>\n",
              "      <td>40.489</td>\n",
              "      <td>0</td>\n",
              "      <td>0</td>\n",
              "      <td>0</td>\n",
              "      <td>0</td>\n",
              "      <td>0</td>\n",
              "      <td>0</td>\n",
              "    </tr>\n",
              "    <tr>\n",
              "      <th>3</th>\n",
              "      <td>1/25/2020</td>\n",
              "      <td>Ethiopia</td>\n",
              "      <td>9.145</td>\n",
              "      <td>40.489</td>\n",
              "      <td>0</td>\n",
              "      <td>0</td>\n",
              "      <td>0</td>\n",
              "      <td>0</td>\n",
              "      <td>0</td>\n",
              "      <td>0</td>\n",
              "    </tr>\n",
              "    <tr>\n",
              "      <th>4</th>\n",
              "      <td>1/26/2020</td>\n",
              "      <td>Ethiopia</td>\n",
              "      <td>9.145</td>\n",
              "      <td>40.489</td>\n",
              "      <td>0</td>\n",
              "      <td>0</td>\n",
              "      <td>0</td>\n",
              "      <td>0</td>\n",
              "      <td>0</td>\n",
              "      <td>0</td>\n",
              "    </tr>\n",
              "    <tr>\n",
              "      <th>5</th>\n",
              "      <td>1/27/2020</td>\n",
              "      <td>Ethiopia</td>\n",
              "      <td>9.145</td>\n",
              "      <td>40.489</td>\n",
              "      <td>0</td>\n",
              "      <td>0</td>\n",
              "      <td>0</td>\n",
              "      <td>0</td>\n",
              "      <td>0</td>\n",
              "      <td>0</td>\n",
              "    </tr>\n",
              "    <tr>\n",
              "      <th>6</th>\n",
              "      <td>1/28/2020</td>\n",
              "      <td>Ethiopia</td>\n",
              "      <td>9.145</td>\n",
              "      <td>40.489</td>\n",
              "      <td>0</td>\n",
              "      <td>0</td>\n",
              "      <td>0</td>\n",
              "      <td>0</td>\n",
              "      <td>0</td>\n",
              "      <td>0</td>\n",
              "    </tr>\n",
              "    <tr>\n",
              "      <th>7</th>\n",
              "      <td>1/29/2020</td>\n",
              "      <td>Ethiopia</td>\n",
              "      <td>9.145</td>\n",
              "      <td>40.489</td>\n",
              "      <td>0</td>\n",
              "      <td>0</td>\n",
              "      <td>0</td>\n",
              "      <td>0</td>\n",
              "      <td>0</td>\n",
              "      <td>0</td>\n",
              "    </tr>\n",
              "    <tr>\n",
              "      <th>8</th>\n",
              "      <td>1/30/2020</td>\n",
              "      <td>Ethiopia</td>\n",
              "      <td>9.145</td>\n",
              "      <td>40.489</td>\n",
              "      <td>0</td>\n",
              "      <td>0</td>\n",
              "      <td>0</td>\n",
              "      <td>0</td>\n",
              "      <td>0</td>\n",
              "      <td>0</td>\n",
              "    </tr>\n",
              "    <tr>\n",
              "      <th>9</th>\n",
              "      <td>1/31/2020</td>\n",
              "      <td>Ethiopia</td>\n",
              "      <td>9.145</td>\n",
              "      <td>40.489</td>\n",
              "      <td>0</td>\n",
              "      <td>0</td>\n",
              "      <td>0</td>\n",
              "      <td>0</td>\n",
              "      <td>0</td>\n",
              "      <td>0</td>\n",
              "    </tr>\n",
              "  </tbody>\n",
              "</table>\n",
              "</div>"
            ],
            "text/plain": [
              "        Date   Country    Lat  ...  Total_Recovered  Deaths_per_date  Deaths\n",
              "0  1/22/2020  Ethiopia  9.145  ...                0                0       0\n",
              "1  1/23/2020  Ethiopia  9.145  ...                0                0       0\n",
              "2  1/24/2020  Ethiopia  9.145  ...                0                0       0\n",
              "3  1/25/2020  Ethiopia  9.145  ...                0                0       0\n",
              "4  1/26/2020  Ethiopia  9.145  ...                0                0       0\n",
              "5  1/27/2020  Ethiopia  9.145  ...                0                0       0\n",
              "6  1/28/2020  Ethiopia  9.145  ...                0                0       0\n",
              "7  1/29/2020  Ethiopia  9.145  ...                0                0       0\n",
              "8  1/30/2020  Ethiopia  9.145  ...                0                0       0\n",
              "9  1/31/2020  Ethiopia  9.145  ...                0                0       0\n",
              "\n",
              "[10 rows x 10 columns]"
            ]
          },
          "metadata": {
            "tags": []
          },
          "execution_count": 120
        }
      ]
    },
    {
      "cell_type": "code",
      "metadata": {
        "id": "GkTQrgXPbt21",
        "colab_type": "code",
        "outputId": "5789a5f0-72af-4583-ae79-b837abc9942b",
        "colab": {
          "base_uri": "https://localhost:8080/",
          "height": 85
        }
      },
      "source": [
        "data.columns"
      ],
      "execution_count": 121,
      "outputs": [
        {
          "output_type": "execute_result",
          "data": {
            "text/plain": [
              "Index(['Date', 'Country', 'Lat', 'Long', 'confirmed_per_date',\n",
              "       'Total_cases_Confirmed', 'Recovered_per_date', 'Total_Recovered',\n",
              "       'Deaths_per_date', 'Deaths'],\n",
              "      dtype='object')"
            ]
          },
          "metadata": {
            "tags": []
          },
          "execution_count": 121
        }
      ]
    },
    {
      "cell_type": "code",
      "metadata": {
        "id": "oBRxQh_mHbE9",
        "colab_type": "code",
        "outputId": "a34cc324-2545-4623-a8fa-520ff2b1f3c8",
        "colab": {
          "base_uri": "https://localhost:8080/",
          "height": 204
        }
      },
      "source": [
        "data=data[['Date', 'Country', 'Lat', 'Long', 'confirmed_per_date',\n",
        "       'Total_cases_Confirmed', 'Recovered_per_date', 'Total_Recovered',\n",
        "       'Deaths_per_date', 'Deaths']] # just use index of columns to find null values\n",
        "data.isna().sum()# shows zero missing values\n"
      ],
      "execution_count": 122,
      "outputs": [
        {
          "output_type": "execute_result",
          "data": {
            "text/plain": [
              "Date                     0\n",
              "Country                  0\n",
              "Lat                      0\n",
              "Long                     0\n",
              "confirmed_per_date       0\n",
              "Total_cases_Confirmed    0\n",
              "Recovered_per_date       0\n",
              "Total_Recovered          0\n",
              "Deaths_per_date          0\n",
              "Deaths                   0\n",
              "dtype: int64"
            ]
          },
          "metadata": {
            "tags": []
          },
          "execution_count": 122
        }
      ]
    },
    {
      "cell_type": "code",
      "metadata": {
        "id": "tuQHB92KI3l-",
        "colab_type": "code",
        "outputId": "43775efb-a89a-44b3-a601-60adc793d5a1",
        "colab": {
          "base_uri": "https://localhost:8080/",
          "height": 297
        }
      },
      "source": [
        "data.describe()#simple describe method"
      ],
      "execution_count": 112,
      "outputs": [
        {
          "output_type": "execute_result",
          "data": {
            "text/html": [
              "<div>\n",
              "<style scoped>\n",
              "    .dataframe tbody tr th:only-of-type {\n",
              "        vertical-align: middle;\n",
              "    }\n",
              "\n",
              "    .dataframe tbody tr th {\n",
              "        vertical-align: top;\n",
              "    }\n",
              "\n",
              "    .dataframe thead th {\n",
              "        text-align: right;\n",
              "    }\n",
              "</style>\n",
              "<table border=\"1\" class=\"dataframe\">\n",
              "  <thead>\n",
              "    <tr style=\"text-align: right;\">\n",
              "      <th></th>\n",
              "      <th>Lat</th>\n",
              "      <th>Long</th>\n",
              "      <th>confirmed_per_date</th>\n",
              "      <th>Total_Confirmed</th>\n",
              "      <th>Recovered_per_date</th>\n",
              "      <th>Total_Recovered</th>\n",
              "      <th>Deaths_per_date</th>\n",
              "      <th>Deaths</th>\n",
              "    </tr>\n",
              "  </thead>\n",
              "  <tbody>\n",
              "    <tr>\n",
              "      <th>count</th>\n",
              "      <td>1.410000e+02</td>\n",
              "      <td>1.410000e+02</td>\n",
              "      <td>141.000000</td>\n",
              "      <td>141.000000</td>\n",
              "      <td>141.000000</td>\n",
              "      <td>141.000000</td>\n",
              "      <td>141.000000</td>\n",
              "      <td>141.000000</td>\n",
              "    </tr>\n",
              "    <tr>\n",
              "      <th>mean</th>\n",
              "      <td>9.145000e+00</td>\n",
              "      <td>4.048900e+01</td>\n",
              "      <td>17.702128</td>\n",
              "      <td>241.234043</td>\n",
              "      <td>2.829787</td>\n",
              "      <td>52.964539</td>\n",
              "      <td>0.248227</td>\n",
              "      <td>3.212766</td>\n",
              "    </tr>\n",
              "    <tr>\n",
              "      <th>std</th>\n",
              "      <td>1.247883e-14</td>\n",
              "      <td>1.069614e-13</td>\n",
              "      <td>39.829591</td>\n",
              "      <td>503.947838</td>\n",
              "      <td>7.017282</td>\n",
              "      <td>87.592434</td>\n",
              "      <td>0.887662</td>\n",
              "      <td>6.017603</td>\n",
              "    </tr>\n",
              "    <tr>\n",
              "      <th>min</th>\n",
              "      <td>9.145000e+00</td>\n",
              "      <td>4.048900e+01</td>\n",
              "      <td>0.000000</td>\n",
              "      <td>0.000000</td>\n",
              "      <td>0.000000</td>\n",
              "      <td>0.000000</td>\n",
              "      <td>0.000000</td>\n",
              "      <td>0.000000</td>\n",
              "    </tr>\n",
              "    <tr>\n",
              "      <th>25%</th>\n",
              "      <td>9.145000e+00</td>\n",
              "      <td>4.048900e+01</td>\n",
              "      <td>0.000000</td>\n",
              "      <td>0.000000</td>\n",
              "      <td>0.000000</td>\n",
              "      <td>0.000000</td>\n",
              "      <td>0.000000</td>\n",
              "      <td>0.000000</td>\n",
              "    </tr>\n",
              "    <tr>\n",
              "      <th>50%</th>\n",
              "      <td>9.145000e+00</td>\n",
              "      <td>4.048900e+01</td>\n",
              "      <td>1.000000</td>\n",
              "      <td>29.000000</td>\n",
              "      <td>0.000000</td>\n",
              "      <td>7.000000</td>\n",
              "      <td>0.000000</td>\n",
              "      <td>0.000000</td>\n",
              "    </tr>\n",
              "    <tr>\n",
              "      <th>75%</th>\n",
              "      <td>9.145000e+00</td>\n",
              "      <td>4.048900e+01</td>\n",
              "      <td>8.000000</td>\n",
              "      <td>162.000000</td>\n",
              "      <td>2.000000</td>\n",
              "      <td>93.000000</td>\n",
              "      <td>0.000000</td>\n",
              "      <td>4.000000</td>\n",
              "    </tr>\n",
              "    <tr>\n",
              "      <th>max</th>\n",
              "      <td>9.145000e+00</td>\n",
              "      <td>4.048900e+01</td>\n",
              "      <td>180.000000</td>\n",
              "      <td>2506.000000</td>\n",
              "      <td>63.000000</td>\n",
              "      <td>401.000000</td>\n",
              "      <td>7.000000</td>\n",
              "      <td>35.000000</td>\n",
              "    </tr>\n",
              "  </tbody>\n",
              "</table>\n",
              "</div>"
            ],
            "text/plain": [
              "                Lat          Long  ...  Deaths_per_date      Deaths\n",
              "count  1.410000e+02  1.410000e+02  ...       141.000000  141.000000\n",
              "mean   9.145000e+00  4.048900e+01  ...         0.248227    3.212766\n",
              "std    1.247883e-14  1.069614e-13  ...         0.887662    6.017603\n",
              "min    9.145000e+00  4.048900e+01  ...         0.000000    0.000000\n",
              "25%    9.145000e+00  4.048900e+01  ...         0.000000    0.000000\n",
              "50%    9.145000e+00  4.048900e+01  ...         0.000000    0.000000\n",
              "75%    9.145000e+00  4.048900e+01  ...         0.000000    4.000000\n",
              "max    9.145000e+00  4.048900e+01  ...         7.000000   35.000000\n",
              "\n",
              "[8 rows x 8 columns]"
            ]
          },
          "metadata": {
            "tags": []
          },
          "execution_count": 112
        }
      ]
    },
    {
      "cell_type": "code",
      "metadata": {
        "id": "hxKORJaPJOih",
        "colab_type": "code",
        "outputId": "7d205b23-fc46-4b78-82e8-6246ed1bf25f",
        "colab": {
          "base_uri": "https://localhost:8080/",
          "height": 85
        }
      },
      "source": [
        "data.columns"
      ],
      "execution_count": 113,
      "outputs": [
        {
          "output_type": "execute_result",
          "data": {
            "text/plain": [
              "Index(['Date', 'Country', 'Lat', 'Long', 'confirmed_per_date',\n",
              "       'Total_Confirmed', 'Recovered_per_date', 'Total_Recovered',\n",
              "       'Deaths_per_date', 'Deaths'],\n",
              "      dtype='object')"
            ]
          },
          "metadata": {
            "tags": []
          },
          "execution_count": 113
        }
      ]
    },
    {
      "cell_type": "code",
      "metadata": {
        "id": "-Y8xYvTmJduz",
        "colab_type": "code",
        "outputId": "ad284519-f0cd-4883-f3a4-63756a701585",
        "colab": {
          "base_uri": "https://localhost:8080/",
          "height": 504
        }
      },
      "source": [
        "#group our dataframe using date\n",
        "data.groupby('Date')['Total_cases_Confirmed', 'Total_Recovered', 'Deaths'].max()"
      ],
      "execution_count": 123,
      "outputs": [
        {
          "output_type": "stream",
          "text": [
            "/usr/local/lib/python3.6/dist-packages/ipykernel_launcher.py:1: FutureWarning: Indexing with multiple keys (implicitly converted to a tuple of keys) will be deprecated, use a list instead.\n",
            "  \"\"\"Entry point for launching an IPython kernel.\n"
          ],
          "name": "stderr"
        },
        {
          "output_type": "execute_result",
          "data": {
            "text/html": [
              "<div>\n",
              "<style scoped>\n",
              "    .dataframe tbody tr th:only-of-type {\n",
              "        vertical-align: middle;\n",
              "    }\n",
              "\n",
              "    .dataframe tbody tr th {\n",
              "        vertical-align: top;\n",
              "    }\n",
              "\n",
              "    .dataframe thead th {\n",
              "        text-align: right;\n",
              "    }\n",
              "</style>\n",
              "<table border=\"1\" class=\"dataframe\">\n",
              "  <thead>\n",
              "    <tr style=\"text-align: right;\">\n",
              "      <th></th>\n",
              "      <th>Total_cases_Confirmed</th>\n",
              "      <th>Total_Recovered</th>\n",
              "      <th>Deaths</th>\n",
              "    </tr>\n",
              "    <tr>\n",
              "      <th>Date</th>\n",
              "      <th></th>\n",
              "      <th></th>\n",
              "      <th></th>\n",
              "    </tr>\n",
              "  </thead>\n",
              "  <tbody>\n",
              "    <tr>\n",
              "      <th>1/22/2020</th>\n",
              "      <td>0</td>\n",
              "      <td>0</td>\n",
              "      <td>0</td>\n",
              "    </tr>\n",
              "    <tr>\n",
              "      <th>1/23/2020</th>\n",
              "      <td>0</td>\n",
              "      <td>0</td>\n",
              "      <td>0</td>\n",
              "    </tr>\n",
              "    <tr>\n",
              "      <th>1/24/2020</th>\n",
              "      <td>0</td>\n",
              "      <td>0</td>\n",
              "      <td>0</td>\n",
              "    </tr>\n",
              "    <tr>\n",
              "      <th>1/25/2020</th>\n",
              "      <td>0</td>\n",
              "      <td>0</td>\n",
              "      <td>0</td>\n",
              "    </tr>\n",
              "    <tr>\n",
              "      <th>1/26/2020</th>\n",
              "      <td>0</td>\n",
              "      <td>0</td>\n",
              "      <td>0</td>\n",
              "    </tr>\n",
              "    <tr>\n",
              "      <th>...</th>\n",
              "      <td>...</td>\n",
              "      <td>...</td>\n",
              "      <td>...</td>\n",
              "    </tr>\n",
              "    <tr>\n",
              "      <th>6/5/2020</th>\n",
              "      <td>1805</td>\n",
              "      <td>262</td>\n",
              "      <td>19</td>\n",
              "    </tr>\n",
              "    <tr>\n",
              "      <th>6/6/2020</th>\n",
              "      <td>1934</td>\n",
              "      <td>281</td>\n",
              "      <td>20</td>\n",
              "    </tr>\n",
              "    <tr>\n",
              "      <th>6/7/2020</th>\n",
              "      <td>2020</td>\n",
              "      <td>344</td>\n",
              "      <td>27</td>\n",
              "    </tr>\n",
              "    <tr>\n",
              "      <th>6/8/2020</th>\n",
              "      <td>2156</td>\n",
              "      <td>361</td>\n",
              "      <td>27</td>\n",
              "    </tr>\n",
              "    <tr>\n",
              "      <th>6/9/2020</th>\n",
              "      <td>2336</td>\n",
              "      <td>379</td>\n",
              "      <td>32</td>\n",
              "    </tr>\n",
              "  </tbody>\n",
              "</table>\n",
              "<p>141 rows × 3 columns</p>\n",
              "</div>"
            ],
            "text/plain": [
              "           Total_cases_Confirmed  Total_Recovered  Deaths\n",
              "Date                                                     \n",
              "1/22/2020                      0                0       0\n",
              "1/23/2020                      0                0       0\n",
              "1/24/2020                      0                0       0\n",
              "1/25/2020                      0                0       0\n",
              "1/26/2020                      0                0       0\n",
              "...                          ...              ...     ...\n",
              "6/5/2020                    1805              262      19\n",
              "6/6/2020                    1934              281      20\n",
              "6/7/2020                    2020              344      27\n",
              "6/8/2020                    2156              361      27\n",
              "6/9/2020                    2336              379      32\n",
              "\n",
              "[141 rows x 3 columns]"
            ]
          },
          "metadata": {
            "tags": []
          },
          "execution_count": 123
        }
      ]
    },
    {
      "cell_type": "code",
      "metadata": {
        "id": "z_Ni0wBycwCt",
        "colab_type": "code",
        "outputId": "ce9f3705-6ed3-4fb3-a4dd-679dd666cbd2",
        "colab": {
          "base_uri": "https://localhost:8080/",
          "height": 85
        }
      },
      "source": [
        "data.columns"
      ],
      "execution_count": 124,
      "outputs": [
        {
          "output_type": "execute_result",
          "data": {
            "text/plain": [
              "Index(['Date', 'Country', 'Lat', 'Long', 'confirmed_per_date',\n",
              "       'Total_cases_Confirmed', 'Recovered_per_date', 'Total_Recovered',\n",
              "       'Deaths_per_date', 'Deaths'],\n",
              "      dtype='object')"
            ]
          },
          "metadata": {
            "tags": []
          },
          "execution_count": 124
        }
      ]
    },
    {
      "cell_type": "code",
      "metadata": {
        "id": "-VQbdF7fKCib",
        "colab_type": "code",
        "outputId": "c0ffa247-7534-43ff-e0a8-94805243d4d5",
        "colab": {
          "base_uri": "https://localhost:8080/",
          "height": 71
        }
      },
      "source": [
        "#let's have simple varible which holds data in every day\n",
        "data_per_day=data.groupby('Date')['Total_cases_Confirmed', 'Total_Recovered', 'Deaths'].max()"
      ],
      "execution_count": 125,
      "outputs": [
        {
          "output_type": "stream",
          "text": [
            "/usr/local/lib/python3.6/dist-packages/ipykernel_launcher.py:1: FutureWarning: Indexing with multiple keys (implicitly converted to a tuple of keys) will be deprecated, use a list instead.\n",
            "  \"\"\"Entry point for launching an IPython kernel.\n"
          ],
          "name": "stderr"
        }
      ]
    },
    {
      "cell_type": "code",
      "metadata": {
        "id": "4_mEVzLbKcF_",
        "colab_type": "code",
        "outputId": "ddc2b0d9-b47f-455f-cddb-0c679512c724",
        "colab": {
          "base_uri": "https://localhost:8080/",
          "height": 235
        }
      },
      "source": [
        "data_per_day.head()"
      ],
      "execution_count": 126,
      "outputs": [
        {
          "output_type": "execute_result",
          "data": {
            "text/html": [
              "<div>\n",
              "<style scoped>\n",
              "    .dataframe tbody tr th:only-of-type {\n",
              "        vertical-align: middle;\n",
              "    }\n",
              "\n",
              "    .dataframe tbody tr th {\n",
              "        vertical-align: top;\n",
              "    }\n",
              "\n",
              "    .dataframe thead th {\n",
              "        text-align: right;\n",
              "    }\n",
              "</style>\n",
              "<table border=\"1\" class=\"dataframe\">\n",
              "  <thead>\n",
              "    <tr style=\"text-align: right;\">\n",
              "      <th></th>\n",
              "      <th>Total_cases_Confirmed</th>\n",
              "      <th>Total_Recovered</th>\n",
              "      <th>Deaths</th>\n",
              "    </tr>\n",
              "    <tr>\n",
              "      <th>Date</th>\n",
              "      <th></th>\n",
              "      <th></th>\n",
              "      <th></th>\n",
              "    </tr>\n",
              "  </thead>\n",
              "  <tbody>\n",
              "    <tr>\n",
              "      <th>1/22/2020</th>\n",
              "      <td>0</td>\n",
              "      <td>0</td>\n",
              "      <td>0</td>\n",
              "    </tr>\n",
              "    <tr>\n",
              "      <th>1/23/2020</th>\n",
              "      <td>0</td>\n",
              "      <td>0</td>\n",
              "      <td>0</td>\n",
              "    </tr>\n",
              "    <tr>\n",
              "      <th>1/24/2020</th>\n",
              "      <td>0</td>\n",
              "      <td>0</td>\n",
              "      <td>0</td>\n",
              "    </tr>\n",
              "    <tr>\n",
              "      <th>1/25/2020</th>\n",
              "      <td>0</td>\n",
              "      <td>0</td>\n",
              "      <td>0</td>\n",
              "    </tr>\n",
              "    <tr>\n",
              "      <th>1/26/2020</th>\n",
              "      <td>0</td>\n",
              "      <td>0</td>\n",
              "      <td>0</td>\n",
              "    </tr>\n",
              "  </tbody>\n",
              "</table>\n",
              "</div>"
            ],
            "text/plain": [
              "           Total_cases_Confirmed  Total_Recovered  Deaths\n",
              "Date                                                     \n",
              "1/22/2020                      0                0       0\n",
              "1/23/2020                      0                0       0\n",
              "1/24/2020                      0                0       0\n",
              "1/25/2020                      0                0       0\n",
              "1/26/2020                      0                0       0"
            ]
          },
          "metadata": {
            "tags": []
          },
          "execution_count": 126
        }
      ]
    },
    {
      "cell_type": "code",
      "metadata": {
        "id": "AefkaWMUMTgR",
        "colab_type": "code",
        "outputId": "86370b46-c0ad-4ee2-cfb4-15eb9baf663f",
        "colab": {
          "base_uri": "https://localhost:8080/",
          "height": 34
        }
      },
      "source": [
        "data_per_day['Total_cases_Confirmed'].max()#total cases confirmed from begining to this date(june,10, 2020)"
      ],
      "execution_count": 127,
      "outputs": [
        {
          "output_type": "execute_result",
          "data": {
            "text/plain": [
              "2506"
            ]
          },
          "metadata": {
            "tags": []
          },
          "execution_count": 127
        }
      ]
    },
    {
      "cell_type": "code",
      "metadata": {
        "id": "ABmWzE7yMyYD",
        "colab_type": "code",
        "outputId": "04c70c51-e6e7-4977-fd60-bc5318d2cef4",
        "colab": {
          "base_uri": "https://localhost:8080/",
          "height": 34
        }
      },
      "source": [
        "data_per_day['Total_cases_Confirmed'].min()# minimum cases throughout"
      ],
      "execution_count": 128,
      "outputs": [
        {
          "output_type": "execute_result",
          "data": {
            "text/plain": [
              "0"
            ]
          },
          "metadata": {
            "tags": []
          },
          "execution_count": 128
        }
      ]
    },
    {
      "cell_type": "code",
      "metadata": {
        "id": "HDzlyrJgM4YS",
        "colab_type": "code",
        "outputId": "901e35be-8460-4409-e80b-b85bdc380e3b",
        "colab": {
          "base_uri": "https://localhost:8080/",
          "height": 34
        }
      },
      "source": [
        "#date for total or maximum number of cases\n",
        "data_per_day['Total_cases_Confirmed'].idxmax()"
      ],
      "execution_count": 130,
      "outputs": [
        {
          "output_type": "execute_result",
          "data": {
            "text/plain": [
              "'6/10/2020'"
            ]
          },
          "metadata": {
            "tags": []
          },
          "execution_count": 130
        }
      ]
    },
    {
      "cell_type": "code",
      "metadata": {
        "id": "EthZ2bi3dlUw",
        "colab_type": "code",
        "outputId": "3856375b-be5a-42be-9c7b-7bd4c0e0a0ab",
        "colab": {
          "base_uri": "https://localhost:8080/",
          "height": 165
        }
      },
      "source": [
        "#total number of cases, death and recovery per country(i.e in our case single)\n",
        "data.groupby(['Country'])['Total_cases_Confirmed',\n",
        "      'Total_Recovered',  'Deaths'].max()"
      ],
      "execution_count": 134,
      "outputs": [
        {
          "output_type": "stream",
          "text": [
            "/usr/local/lib/python3.6/dist-packages/ipykernel_launcher.py:3: FutureWarning: Indexing with multiple keys (implicitly converted to a tuple of keys) will be deprecated, use a list instead.\n",
            "  This is separate from the ipykernel package so we can avoid doing imports until\n"
          ],
          "name": "stderr"
        },
        {
          "output_type": "execute_result",
          "data": {
            "text/html": [
              "<div>\n",
              "<style scoped>\n",
              "    .dataframe tbody tr th:only-of-type {\n",
              "        vertical-align: middle;\n",
              "    }\n",
              "\n",
              "    .dataframe tbody tr th {\n",
              "        vertical-align: top;\n",
              "    }\n",
              "\n",
              "    .dataframe thead th {\n",
              "        text-align: right;\n",
              "    }\n",
              "</style>\n",
              "<table border=\"1\" class=\"dataframe\">\n",
              "  <thead>\n",
              "    <tr style=\"text-align: right;\">\n",
              "      <th></th>\n",
              "      <th>Total_cases_Confirmed</th>\n",
              "      <th>Total_Recovered</th>\n",
              "      <th>Deaths</th>\n",
              "    </tr>\n",
              "    <tr>\n",
              "      <th>Country</th>\n",
              "      <th></th>\n",
              "      <th></th>\n",
              "      <th></th>\n",
              "    </tr>\n",
              "  </thead>\n",
              "  <tbody>\n",
              "    <tr>\n",
              "      <th>Ethiopia</th>\n",
              "      <td>2506</td>\n",
              "      <td>401</td>\n",
              "      <td>35</td>\n",
              "    </tr>\n",
              "  </tbody>\n",
              "</table>\n",
              "</div>"
            ],
            "text/plain": [
              "          Total_cases_Confirmed  Total_Recovered  Deaths\n",
              "Country                                                 \n",
              "Ethiopia                   2506              401      35"
            ]
          },
          "metadata": {
            "tags": []
          },
          "execution_count": 134
        }
      ]
    },
    {
      "cell_type": "code",
      "metadata": {
        "id": "D1PO3Y8ue6No",
        "colab_type": "code",
        "outputId": "5cceb8ba-3452-449d-babb-48ff379595f6",
        "colab": {
          "base_uri": "https://localhost:8080/",
          "height": 51
        }
      },
      "source": [
        "data['Country'].value_counts()# basically in our case country is just single values we may need to mention regions in the meantime \n"
      ],
      "execution_count": 135,
      "outputs": [
        {
          "output_type": "execute_result",
          "data": {
            "text/plain": [
              "Ethiopia    141\n",
              "Name: Country, dtype: int64"
            ]
          },
          "metadata": {
            "tags": []
          },
          "execution_count": 135
        }
      ]
    },
    {
      "cell_type": "code",
      "metadata": {
        "id": "lHvhl9fVhHmI",
        "colab_type": "code",
        "outputId": "76eba41d-ad06-4367-9b73-d5faa8b9e979",
        "colab": {
          "base_uri": "https://localhost:8080/",
          "height": 34
        }
      },
      "source": [
        "data['Country'].unique()# print out unique values"
      ],
      "execution_count": 136,
      "outputs": [
        {
          "output_type": "execute_result",
          "data": {
            "text/plain": [
              "array(['Ethiopia'], dtype=object)"
            ]
          },
          "metadata": {
            "tags": []
          },
          "execution_count": 136
        }
      ]
    },
    {
      "cell_type": "code",
      "metadata": {
        "id": "Ka-FZxaEyseJ",
        "colab_type": "code",
        "outputId": "aab725ef-045f-4b08-9de0-7ba4a5255754",
        "colab": {
          "base_uri": "https://localhost:8080/",
          "height": 204
        }
      },
      "source": [
        "data.head()"
      ],
      "execution_count": 137,
      "outputs": [
        {
          "output_type": "execute_result",
          "data": {
            "text/html": [
              "<div>\n",
              "<style scoped>\n",
              "    .dataframe tbody tr th:only-of-type {\n",
              "        vertical-align: middle;\n",
              "    }\n",
              "\n",
              "    .dataframe tbody tr th {\n",
              "        vertical-align: top;\n",
              "    }\n",
              "\n",
              "    .dataframe thead th {\n",
              "        text-align: right;\n",
              "    }\n",
              "</style>\n",
              "<table border=\"1\" class=\"dataframe\">\n",
              "  <thead>\n",
              "    <tr style=\"text-align: right;\">\n",
              "      <th></th>\n",
              "      <th>Date</th>\n",
              "      <th>Country</th>\n",
              "      <th>Lat</th>\n",
              "      <th>Long</th>\n",
              "      <th>confirmed_per_date</th>\n",
              "      <th>Total_cases_Confirmed</th>\n",
              "      <th>Recovered_per_date</th>\n",
              "      <th>Total_Recovered</th>\n",
              "      <th>Deaths_per_date</th>\n",
              "      <th>Deaths</th>\n",
              "    </tr>\n",
              "  </thead>\n",
              "  <tbody>\n",
              "    <tr>\n",
              "      <th>0</th>\n",
              "      <td>1/22/2020</td>\n",
              "      <td>Ethiopia</td>\n",
              "      <td>9.145</td>\n",
              "      <td>40.489</td>\n",
              "      <td>0</td>\n",
              "      <td>0</td>\n",
              "      <td>0</td>\n",
              "      <td>0</td>\n",
              "      <td>0</td>\n",
              "      <td>0</td>\n",
              "    </tr>\n",
              "    <tr>\n",
              "      <th>1</th>\n",
              "      <td>1/23/2020</td>\n",
              "      <td>Ethiopia</td>\n",
              "      <td>9.145</td>\n",
              "      <td>40.489</td>\n",
              "      <td>0</td>\n",
              "      <td>0</td>\n",
              "      <td>0</td>\n",
              "      <td>0</td>\n",
              "      <td>0</td>\n",
              "      <td>0</td>\n",
              "    </tr>\n",
              "    <tr>\n",
              "      <th>2</th>\n",
              "      <td>1/24/2020</td>\n",
              "      <td>Ethiopia</td>\n",
              "      <td>9.145</td>\n",
              "      <td>40.489</td>\n",
              "      <td>0</td>\n",
              "      <td>0</td>\n",
              "      <td>0</td>\n",
              "      <td>0</td>\n",
              "      <td>0</td>\n",
              "      <td>0</td>\n",
              "    </tr>\n",
              "    <tr>\n",
              "      <th>3</th>\n",
              "      <td>1/25/2020</td>\n",
              "      <td>Ethiopia</td>\n",
              "      <td>9.145</td>\n",
              "      <td>40.489</td>\n",
              "      <td>0</td>\n",
              "      <td>0</td>\n",
              "      <td>0</td>\n",
              "      <td>0</td>\n",
              "      <td>0</td>\n",
              "      <td>0</td>\n",
              "    </tr>\n",
              "    <tr>\n",
              "      <th>4</th>\n",
              "      <td>1/26/2020</td>\n",
              "      <td>Ethiopia</td>\n",
              "      <td>9.145</td>\n",
              "      <td>40.489</td>\n",
              "      <td>0</td>\n",
              "      <td>0</td>\n",
              "      <td>0</td>\n",
              "      <td>0</td>\n",
              "      <td>0</td>\n",
              "      <td>0</td>\n",
              "    </tr>\n",
              "  </tbody>\n",
              "</table>\n",
              "</div>"
            ],
            "text/plain": [
              "        Date   Country    Lat  ...  Total_Recovered  Deaths_per_date  Deaths\n",
              "0  1/22/2020  Ethiopia  9.145  ...                0                0       0\n",
              "1  1/23/2020  Ethiopia  9.145  ...                0                0       0\n",
              "2  1/24/2020  Ethiopia  9.145  ...                0                0       0\n",
              "3  1/25/2020  Ethiopia  9.145  ...                0                0       0\n",
              "4  1/26/2020  Ethiopia  9.145  ...                0                0       0\n",
              "\n",
              "[5 rows x 10 columns]"
            ]
          },
          "metadata": {
            "tags": []
          },
          "execution_count": 137
        }
      ]
    },
    {
      "cell_type": "code",
      "metadata": {
        "id": "M53QZkxP3kM9",
        "colab_type": "code",
        "colab": {}
      },
      "source": [
        "data2=data # assign for new dataframe to convert into formated timeseries data"
      ],
      "execution_count": 0,
      "outputs": []
    },
    {
      "cell_type": "code",
      "metadata": {
        "id": "2i2TEzid3pZ9",
        "colab_type": "code",
        "colab": {}
      },
      "source": [
        "data.to_csv('covid_data_clean.csv') #just save to new csv file"
      ],
      "execution_count": 0,
      "outputs": []
    },
    {
      "cell_type": "code",
      "metadata": {
        "id": "syFdJTS84Hfi",
        "colab_type": "code",
        "colab": {}
      },
      "source": [
        "import datetime as dt #importing the datetime library"
      ],
      "execution_count": 0,
      "outputs": []
    },
    {
      "cell_type": "code",
      "metadata": {
        "id": "pE9RFOgr4YEQ",
        "colab_type": "code",
        "colab": {}
      },
      "source": [
        "data['cases_date']=pd.to_datetime(data2['Date']) # you may need to findout new column vars to hold the new value"
      ],
      "execution_count": 0,
      "outputs": []
    },
    {
      "cell_type": "code",
      "metadata": {
        "id": "xKxS15_G49FO",
        "colab_type": "code",
        "outputId": "9ca4ef8c-351e-49c7-b49a-7f17809fe88f",
        "colab": {
          "base_uri": "https://localhost:8080/",
          "height": 221
        }
      },
      "source": [
        "data2.dtypes # look into the formated data types(date time)"
      ],
      "execution_count": 146,
      "outputs": [
        {
          "output_type": "execute_result",
          "data": {
            "text/plain": [
              "Date                             object\n",
              "Country                          object\n",
              "Lat                             float64\n",
              "Long                            float64\n",
              "confirmed_per_date                int64\n",
              "Total_cases_Confirmed             int64\n",
              "Recovered_per_date                int64\n",
              "Total_Recovered                   int64\n",
              "Deaths_per_date                   int64\n",
              "Deaths                            int64\n",
              "cases_date               datetime64[ns]\n",
              "dtype: object"
            ]
          },
          "metadata": {
            "tags": []
          },
          "execution_count": 146
        }
      ]
    },
    {
      "cell_type": "code",
      "metadata": {
        "id": "qDOR46-Q5Ibv",
        "colab_type": "code",
        "outputId": "f983bb14-96ad-4623-ea73-0ba905c414ce",
        "colab": {
          "base_uri": "https://localhost:8080/",
          "height": 609
        }
      },
      "source": [
        "data['cases_date'].plot(figsize=(20,10)) # just for fun plot the graph as time increases"
      ],
      "execution_count": 147,
      "outputs": [
        {
          "output_type": "execute_result",
          "data": {
            "text/plain": [
              "<matplotlib.axes._subplots.AxesSubplot at 0x7fbfe2553518>"
            ]
          },
          "metadata": {
            "tags": []
          },
          "execution_count": 147
        },
        {
          "output_type": "display_data",
          "data": {
            "image/png": "[encoded data removed]",
            "text/plain": [
              "<Figure size 1440x720 with 1 Axes>"
            ]
          },
          "metadata": {
            "tags": [],
            "needs_background": "light"
          }
        }
      ]
    },
    {
      "cell_type": "code",
      "metadata": {
        "id": "RF4Sbyb66C5p",
        "colab_type": "code",
        "colab": {}
      },
      "source": [
        "time_series=data2.set_index('cases_date') #set index of the new formated variables"
      ],
      "execution_count": 0,
      "outputs": []
    },
    {
      "cell_type": "code",
      "metadata": {
        "id": "FqgqxgjN6Q7D",
        "colab_type": "code",
        "outputId": "096122bd-d853-4f1d-c269-636cb4e574d9",
        "colab": {
          "base_uri": "https://localhost:8080/",
          "height": 450
        }
      },
      "source": [
        "time_series"
      ],
      "execution_count": 156,
      "outputs": [
        {
          "output_type": "execute_result",
          "data": {
            "text/html": [
              "<div>\n",
              "<style scoped>\n",
              "    .dataframe tbody tr th:only-of-type {\n",
              "        vertical-align: middle;\n",
              "    }\n",
              "\n",
              "    .dataframe tbody tr th {\n",
              "        vertical-align: top;\n",
              "    }\n",
              "\n",
              "    .dataframe thead th {\n",
              "        text-align: right;\n",
              "    }\n",
              "</style>\n",
              "<table border=\"1\" class=\"dataframe\">\n",
              "  <thead>\n",
              "    <tr style=\"text-align: right;\">\n",
              "      <th></th>\n",
              "      <th>Date</th>\n",
              "      <th>Country</th>\n",
              "      <th>Lat</th>\n",
              "      <th>Long</th>\n",
              "      <th>confirmed_per_date</th>\n",
              "      <th>Total_cases_Confirmed</th>\n",
              "      <th>Recovered_per_date</th>\n",
              "      <th>Total_Recovered</th>\n",
              "      <th>Deaths_per_date</th>\n",
              "      <th>Deaths</th>\n",
              "    </tr>\n",
              "    <tr>\n",
              "      <th>cases_date</th>\n",
              "      <th></th>\n",
              "      <th></th>\n",
              "      <th></th>\n",
              "      <th></th>\n",
              "      <th></th>\n",
              "      <th></th>\n",
              "      <th></th>\n",
              "      <th></th>\n",
              "      <th></th>\n",
              "      <th></th>\n",
              "    </tr>\n",
              "  </thead>\n",
              "  <tbody>\n",
              "    <tr>\n",
              "      <th>2020-01-22</th>\n",
              "      <td>1/22/2020</td>\n",
              "      <td>Ethiopia</td>\n",
              "      <td>9.145</td>\n",
              "      <td>40.489</td>\n",
              "      <td>0</td>\n",
              "      <td>0</td>\n",
              "      <td>0</td>\n",
              "      <td>0</td>\n",
              "      <td>0</td>\n",
              "      <td>0</td>\n",
              "    </tr>\n",
              "    <tr>\n",
              "      <th>2020-01-23</th>\n",
              "      <td>1/23/2020</td>\n",
              "      <td>Ethiopia</td>\n",
              "      <td>9.145</td>\n",
              "      <td>40.489</td>\n",
              "      <td>0</td>\n",
              "      <td>0</td>\n",
              "      <td>0</td>\n",
              "      <td>0</td>\n",
              "      <td>0</td>\n",
              "      <td>0</td>\n",
              "    </tr>\n",
              "    <tr>\n",
              "      <th>2020-01-24</th>\n",
              "      <td>1/24/2020</td>\n",
              "      <td>Ethiopia</td>\n",
              "      <td>9.145</td>\n",
              "      <td>40.489</td>\n",
              "      <td>0</td>\n",
              "      <td>0</td>\n",
              "      <td>0</td>\n",
              "      <td>0</td>\n",
              "      <td>0</td>\n",
              "      <td>0</td>\n",
              "    </tr>\n",
              "    <tr>\n",
              "      <th>2020-01-25</th>\n",
              "      <td>1/25/2020</td>\n",
              "      <td>Ethiopia</td>\n",
              "      <td>9.145</td>\n",
              "      <td>40.489</td>\n",
              "      <td>0</td>\n",
              "      <td>0</td>\n",
              "      <td>0</td>\n",
              "      <td>0</td>\n",
              "      <td>0</td>\n",
              "      <td>0</td>\n",
              "    </tr>\n",
              "    <tr>\n",
              "      <th>2020-01-26</th>\n",
              "      <td>1/26/2020</td>\n",
              "      <td>Ethiopia</td>\n",
              "      <td>9.145</td>\n",
              "      <td>40.489</td>\n",
              "      <td>0</td>\n",
              "      <td>0</td>\n",
              "      <td>0</td>\n",
              "      <td>0</td>\n",
              "      <td>0</td>\n",
              "      <td>0</td>\n",
              "    </tr>\n",
              "    <tr>\n",
              "      <th>...</th>\n",
              "      <td>...</td>\n",
              "      <td>...</td>\n",
              "      <td>...</td>\n",
              "      <td>...</td>\n",
              "      <td>...</td>\n",
              "      <td>...</td>\n",
              "      <td>...</td>\n",
              "      <td>...</td>\n",
              "      <td>...</td>\n",
              "      <td>...</td>\n",
              "    </tr>\n",
              "    <tr>\n",
              "      <th>2020-06-06</th>\n",
              "      <td>6/6/2020</td>\n",
              "      <td>Ethiopia</td>\n",
              "      <td>9.145</td>\n",
              "      <td>40.489</td>\n",
              "      <td>129</td>\n",
              "      <td>1934</td>\n",
              "      <td>19</td>\n",
              "      <td>281</td>\n",
              "      <td>1</td>\n",
              "      <td>20</td>\n",
              "    </tr>\n",
              "    <tr>\n",
              "      <th>2020-06-07</th>\n",
              "      <td>6/7/2020</td>\n",
              "      <td>Ethiopia</td>\n",
              "      <td>9.145</td>\n",
              "      <td>40.489</td>\n",
              "      <td>86</td>\n",
              "      <td>2020</td>\n",
              "      <td>63</td>\n",
              "      <td>344</td>\n",
              "      <td>7</td>\n",
              "      <td>27</td>\n",
              "    </tr>\n",
              "    <tr>\n",
              "      <th>2020-06-08</th>\n",
              "      <td>6/8/2020</td>\n",
              "      <td>Ethiopia</td>\n",
              "      <td>9.145</td>\n",
              "      <td>40.489</td>\n",
              "      <td>136</td>\n",
              "      <td>2156</td>\n",
              "      <td>17</td>\n",
              "      <td>361</td>\n",
              "      <td>0</td>\n",
              "      <td>27</td>\n",
              "    </tr>\n",
              "    <tr>\n",
              "      <th>2020-06-09</th>\n",
              "      <td>6/9/2020</td>\n",
              "      <td>Ethiopia</td>\n",
              "      <td>9.145</td>\n",
              "      <td>40.489</td>\n",
              "      <td>180</td>\n",
              "      <td>2336</td>\n",
              "      <td>18</td>\n",
              "      <td>379</td>\n",
              "      <td>5</td>\n",
              "      <td>32</td>\n",
              "    </tr>\n",
              "    <tr>\n",
              "      <th>2020-06-10</th>\n",
              "      <td>6/10/2020</td>\n",
              "      <td>Ethiopia</td>\n",
              "      <td>9.145</td>\n",
              "      <td>40.489</td>\n",
              "      <td>170</td>\n",
              "      <td>2506</td>\n",
              "      <td>22</td>\n",
              "      <td>401</td>\n",
              "      <td>3</td>\n",
              "      <td>35</td>\n",
              "    </tr>\n",
              "  </tbody>\n",
              "</table>\n",
              "<p>141 rows × 10 columns</p>\n",
              "</div>"
            ],
            "text/plain": [
              "                 Date   Country  ...  Deaths_per_date  Deaths\n",
              "cases_date                       ...                         \n",
              "2020-01-22  1/22/2020  Ethiopia  ...                0       0\n",
              "2020-01-23  1/23/2020  Ethiopia  ...                0       0\n",
              "2020-01-24  1/24/2020  Ethiopia  ...                0       0\n",
              "2020-01-25  1/25/2020  Ethiopia  ...                0       0\n",
              "2020-01-26  1/26/2020  Ethiopia  ...                0       0\n",
              "...               ...       ...  ...              ...     ...\n",
              "2020-06-06   6/6/2020  Ethiopia  ...                1      20\n",
              "2020-06-07   6/7/2020  Ethiopia  ...                7      27\n",
              "2020-06-08   6/8/2020  Ethiopia  ...                0      27\n",
              "2020-06-09   6/9/2020  Ethiopia  ...                5      32\n",
              "2020-06-10  6/10/2020  Ethiopia  ...                3      35\n",
              "\n",
              "[141 rows x 10 columns]"
            ]
          },
          "metadata": {
            "tags": []
          },
          "execution_count": 156
        }
      ]
    },
    {
      "cell_type": "code",
      "metadata": {
        "id": "LoBr6Gns6Tzs",
        "colab_type": "code",
        "outputId": "204a0cac-2f5e-4628-fe46-5b02167ff1d2",
        "colab": {
          "base_uri": "https://localhost:8080/",
          "height": 390
        }
      },
      "source": [
        "time_series.loc['2020-06']"
      ],
      "execution_count": 157,
      "outputs": [
        {
          "output_type": "execute_result",
          "data": {
            "text/html": [
              "<div>\n",
              "<style scoped>\n",
              "    .dataframe tbody tr th:only-of-type {\n",
              "        vertical-align: middle;\n",
              "    }\n",
              "\n",
              "    .dataframe tbody tr th {\n",
              "        vertical-align: top;\n",
              "    }\n",
              "\n",
              "    .dataframe thead th {\n",
              "        text-align: right;\n",
              "    }\n",
              "</style>\n",
              "<table border=\"1\" class=\"dataframe\">\n",
              "  <thead>\n",
              "    <tr style=\"text-align: right;\">\n",
              "      <th></th>\n",
              "      <th>Date</th>\n",
              "      <th>Country</th>\n",
              "      <th>Lat</th>\n",
              "      <th>Long</th>\n",
              "      <th>confirmed_per_date</th>\n",
              "      <th>Total_cases_Confirmed</th>\n",
              "      <th>Recovered_per_date</th>\n",
              "      <th>Total_Recovered</th>\n",
              "      <th>Deaths_per_date</th>\n",
              "      <th>Deaths</th>\n",
              "    </tr>\n",
              "    <tr>\n",
              "      <th>cases_date</th>\n",
              "      <th></th>\n",
              "      <th></th>\n",
              "      <th></th>\n",
              "      <th></th>\n",
              "      <th></th>\n",
              "      <th></th>\n",
              "      <th></th>\n",
              "      <th></th>\n",
              "      <th></th>\n",
              "      <th></th>\n",
              "    </tr>\n",
              "  </thead>\n",
              "  <tbody>\n",
              "    <tr>\n",
              "      <th>2020-06-01</th>\n",
              "      <td>6/1/2020</td>\n",
              "      <td>Ethiopia</td>\n",
              "      <td>9.145</td>\n",
              "      <td>40.489</td>\n",
              "      <td>85</td>\n",
              "      <td>1257</td>\n",
              "      <td>8</td>\n",
              "      <td>217</td>\n",
              "      <td>1</td>\n",
              "      <td>12</td>\n",
              "    </tr>\n",
              "    <tr>\n",
              "      <th>2020-06-02</th>\n",
              "      <td>6/2/2020</td>\n",
              "      <td>Ethiopia</td>\n",
              "      <td>9.145</td>\n",
              "      <td>40.489</td>\n",
              "      <td>87</td>\n",
              "      <td>1344</td>\n",
              "      <td>14</td>\n",
              "      <td>231</td>\n",
              "      <td>2</td>\n",
              "      <td>14</td>\n",
              "    </tr>\n",
              "    <tr>\n",
              "      <th>2020-06-03</th>\n",
              "      <td>6/3/2020</td>\n",
              "      <td>Ethiopia</td>\n",
              "      <td>9.145</td>\n",
              "      <td>40.489</td>\n",
              "      <td>142</td>\n",
              "      <td>1486</td>\n",
              "      <td>15</td>\n",
              "      <td>246</td>\n",
              "      <td>3</td>\n",
              "      <td>17</td>\n",
              "    </tr>\n",
              "    <tr>\n",
              "      <th>2020-06-04</th>\n",
              "      <td>6/4/2020</td>\n",
              "      <td>Ethiopia</td>\n",
              "      <td>9.145</td>\n",
              "      <td>40.489</td>\n",
              "      <td>150</td>\n",
              "      <td>1636</td>\n",
              "      <td>4</td>\n",
              "      <td>250</td>\n",
              "      <td>1</td>\n",
              "      <td>18</td>\n",
              "    </tr>\n",
              "    <tr>\n",
              "      <th>2020-06-05</th>\n",
              "      <td>6/5/2020</td>\n",
              "      <td>Ethiopia</td>\n",
              "      <td>9.145</td>\n",
              "      <td>40.489</td>\n",
              "      <td>169</td>\n",
              "      <td>1805</td>\n",
              "      <td>12</td>\n",
              "      <td>262</td>\n",
              "      <td>1</td>\n",
              "      <td>19</td>\n",
              "    </tr>\n",
              "    <tr>\n",
              "      <th>2020-06-06</th>\n",
              "      <td>6/6/2020</td>\n",
              "      <td>Ethiopia</td>\n",
              "      <td>9.145</td>\n",
              "      <td>40.489</td>\n",
              "      <td>129</td>\n",
              "      <td>1934</td>\n",
              "      <td>19</td>\n",
              "      <td>281</td>\n",
              "      <td>1</td>\n",
              "      <td>20</td>\n",
              "    </tr>\n",
              "    <tr>\n",
              "      <th>2020-06-07</th>\n",
              "      <td>6/7/2020</td>\n",
              "      <td>Ethiopia</td>\n",
              "      <td>9.145</td>\n",
              "      <td>40.489</td>\n",
              "      <td>86</td>\n",
              "      <td>2020</td>\n",
              "      <td>63</td>\n",
              "      <td>344</td>\n",
              "      <td>7</td>\n",
              "      <td>27</td>\n",
              "    </tr>\n",
              "    <tr>\n",
              "      <th>2020-06-08</th>\n",
              "      <td>6/8/2020</td>\n",
              "      <td>Ethiopia</td>\n",
              "      <td>9.145</td>\n",
              "      <td>40.489</td>\n",
              "      <td>136</td>\n",
              "      <td>2156</td>\n",
              "      <td>17</td>\n",
              "      <td>361</td>\n",
              "      <td>0</td>\n",
              "      <td>27</td>\n",
              "    </tr>\n",
              "    <tr>\n",
              "      <th>2020-06-09</th>\n",
              "      <td>6/9/2020</td>\n",
              "      <td>Ethiopia</td>\n",
              "      <td>9.145</td>\n",
              "      <td>40.489</td>\n",
              "      <td>180</td>\n",
              "      <td>2336</td>\n",
              "      <td>18</td>\n",
              "      <td>379</td>\n",
              "      <td>5</td>\n",
              "      <td>32</td>\n",
              "    </tr>\n",
              "    <tr>\n",
              "      <th>2020-06-10</th>\n",
              "      <td>6/10/2020</td>\n",
              "      <td>Ethiopia</td>\n",
              "      <td>9.145</td>\n",
              "      <td>40.489</td>\n",
              "      <td>170</td>\n",
              "      <td>2506</td>\n",
              "      <td>22</td>\n",
              "      <td>401</td>\n",
              "      <td>3</td>\n",
              "      <td>35</td>\n",
              "    </tr>\n",
              "  </tbody>\n",
              "</table>\n",
              "</div>"
            ],
            "text/plain": [
              "                 Date   Country  ...  Deaths_per_date  Deaths\n",
              "cases_date                       ...                         \n",
              "2020-06-01   6/1/2020  Ethiopia  ...                1      12\n",
              "2020-06-02   6/2/2020  Ethiopia  ...                2      14\n",
              "2020-06-03   6/3/2020  Ethiopia  ...                3      17\n",
              "2020-06-04   6/4/2020  Ethiopia  ...                1      18\n",
              "2020-06-05   6/5/2020  Ethiopia  ...                1      19\n",
              "2020-06-06   6/6/2020  Ethiopia  ...                1      20\n",
              "2020-06-07   6/7/2020  Ethiopia  ...                7      27\n",
              "2020-06-08   6/8/2020  Ethiopia  ...                0      27\n",
              "2020-06-09   6/9/2020  Ethiopia  ...                5      32\n",
              "2020-06-10  6/10/2020  Ethiopia  ...                3      35\n",
              "\n",
              "[10 rows x 10 columns]"
            ]
          },
          "metadata": {
            "tags": []
          },
          "execution_count": 157
        }
      ]
    },
    {
      "cell_type": "code",
      "metadata": {
        "id": "ebtxXeDX6y_J",
        "colab_type": "code",
        "outputId": "c3dbcb38-5db0-4dad-e1f9-af727939fef2",
        "colab": {
          "base_uri": "https://localhost:8080/",
          "height": 85
        }
      },
      "source": [
        "time_series.columns"
      ],
      "execution_count": 158,
      "outputs": [
        {
          "output_type": "execute_result",
          "data": {
            "text/plain": [
              "Index(['Date', 'Country', 'Lat', 'Long', 'confirmed_per_date',\n",
              "       'Total_cases_Confirmed', 'Recovered_per_date', 'Total_Recovered',\n",
              "       'Deaths_per_date', 'Deaths'],\n",
              "      dtype='object')"
            ]
          },
          "metadata": {
            "tags": []
          },
          "execution_count": 158
        }
      ]
    },
    {
      "cell_type": "code",
      "metadata": {
        "id": "Rfm_Etii69Uh",
        "colab_type": "code",
        "outputId": "6ba63abf-6dbc-445c-8714-57d12154a5b6",
        "colab": {
          "base_uri": "https://localhost:8080/",
          "height": 658
        }
      },
      "source": [
        "time_series.loc['2020-03-13':'2020-06-10'][[ 'Total_cases_Confirmed',\n",
        "       'Total_Recovered', 'Deaths']].plot(figsize=(20,10))"
      ],
      "execution_count": 159,
      "outputs": [
        {
          "output_type": "execute_result",
          "data": {
            "text/plain": [
              "<matplotlib.axes._subplots.AxesSubplot at 0x7fbfe13ab630>"
            ]
          },
          "metadata": {
            "tags": []
          },
          "execution_count": 159
        },
        {
          "output_type": "display_data",
          "data": {
            "image/png": "[encoded data removed]",
            "text/plain": [
              "<Figure size 1440x720 with 1 Axes>"
            ]
          },
          "metadata": {
            "tags": [],
            "needs_background": "light"
          }
        }
      ]
    },
    {
      "cell_type": "code",
      "metadata": {
        "id": "EWj6iaOPUU6m",
        "colab_type": "code",
        "colab": {}
      },
      "source": [
        "'''the folllowing segments used to clone Amharic fonts into google colab in order to plot unicode charcters using matplotlib\n",
        "\n",
        "For simplicity I just has printed out the english cahrs!\n",
        "'''"
      ],
      "execution_count": 0,
      "outputs": []
    },
    {
      "cell_type": "code",
      "metadata": {
        "id": "kWl_6azghFVK",
        "colab_type": "code",
        "colab": {}
      },
      "source": [
        "!wget 'https://noto-website-2.storage.googleapis.com/pkgs/NotoSerifEthiopic-hinted.zip'"
      ],
      "execution_count": 0,
      "outputs": []
    },
    {
      "cell_type": "code",
      "metadata": {
        "id": "zdyam9HmkU3w",
        "colab_type": "code",
        "colab": {}
      },
      "source": [
        "!unzip \"NotoSerifEthiopic-hinted.zip\""
      ],
      "execution_count": 0,
      "outputs": []
    },
    {
      "cell_type": "code",
      "metadata": {
        "id": "5OcqSt8-k3R1",
        "colab_type": "code",
        "colab": {}
      },
      "source": [
        "!mv NotoSerifEthiopic-Regular.ttf  /usr/share/fonts/truetype/"
      ],
      "execution_count": 0,
      "outputs": []
    },
    {
      "cell_type": "code",
      "metadata": {
        "id": "-z67y5GElNH_",
        "colab_type": "code",
        "colab": {}
      },
      "source": [
        "import matplotlib as mpl\n",
        "import matplotlib.pyplot as plt\n",
        "import matplotlib.font_manager as fm\n",
        "\n",
        "# fetch the name of font that was installed\n",
        "path = '/usr/share/fonts/truetype/NotoSerifEthiopic-Regular.ttf'\n",
        "fontprop = fm.FontProperties(fname=path)\n"
      ],
      "execution_count": 0,
      "outputs": []
    },
    {
      "cell_type": "code",
      "metadata": {
        "id": "bHEN1MR17hDG",
        "colab_type": "code",
        "colab": {}
      },
      "source": [
        "plt.plot(range(50), range(50), 'r')\n",
        "plt.title('የኮቪድ መረጃ', fontproperties=fontprop)\n",
        "plt.ylabel('የሞቱ', fontproperties=fontprop)\n",
        "plt.xlabel('የተያዙ', fontproperties=fontprop)\n",
        "plt.show()"
      ],
      "execution_count": 0,
      "outputs": []
    },
    {
      "cell_type": "code",
      "metadata": {
        "id": "qHAy05NJsvAh",
        "colab_type": "code",
        "colab": {
          "base_uri": "https://localhost:8080/",
          "height": 450
        },
        "outputId": "a6bf84b0-60d1-4043-da69-dee3fb588fce"
      },
      "source": [
        "data_per_day"
      ],
      "execution_count": 160,
      "outputs": [
        {
          "output_type": "execute_result",
          "data": {
            "text/html": [
              "<div>\n",
              "<style scoped>\n",
              "    .dataframe tbody tr th:only-of-type {\n",
              "        vertical-align: middle;\n",
              "    }\n",
              "\n",
              "    .dataframe tbody tr th {\n",
              "        vertical-align: top;\n",
              "    }\n",
              "\n",
              "    .dataframe thead th {\n",
              "        text-align: right;\n",
              "    }\n",
              "</style>\n",
              "<table border=\"1\" class=\"dataframe\">\n",
              "  <thead>\n",
              "    <tr style=\"text-align: right;\">\n",
              "      <th></th>\n",
              "      <th>Total_cases_Confirmed</th>\n",
              "      <th>Total_Recovered</th>\n",
              "      <th>Deaths</th>\n",
              "    </tr>\n",
              "    <tr>\n",
              "      <th>Date</th>\n",
              "      <th></th>\n",
              "      <th></th>\n",
              "      <th></th>\n",
              "    </tr>\n",
              "  </thead>\n",
              "  <tbody>\n",
              "    <tr>\n",
              "      <th>1/22/2020</th>\n",
              "      <td>0</td>\n",
              "      <td>0</td>\n",
              "      <td>0</td>\n",
              "    </tr>\n",
              "    <tr>\n",
              "      <th>1/23/2020</th>\n",
              "      <td>0</td>\n",
              "      <td>0</td>\n",
              "      <td>0</td>\n",
              "    </tr>\n",
              "    <tr>\n",
              "      <th>1/24/2020</th>\n",
              "      <td>0</td>\n",
              "      <td>0</td>\n",
              "      <td>0</td>\n",
              "    </tr>\n",
              "    <tr>\n",
              "      <th>1/25/2020</th>\n",
              "      <td>0</td>\n",
              "      <td>0</td>\n",
              "      <td>0</td>\n",
              "    </tr>\n",
              "    <tr>\n",
              "      <th>1/26/2020</th>\n",
              "      <td>0</td>\n",
              "      <td>0</td>\n",
              "      <td>0</td>\n",
              "    </tr>\n",
              "    <tr>\n",
              "      <th>...</th>\n",
              "      <td>...</td>\n",
              "      <td>...</td>\n",
              "      <td>...</td>\n",
              "    </tr>\n",
              "    <tr>\n",
              "      <th>6/5/2020</th>\n",
              "      <td>1805</td>\n",
              "      <td>262</td>\n",
              "      <td>19</td>\n",
              "    </tr>\n",
              "    <tr>\n",
              "      <th>6/6/2020</th>\n",
              "      <td>1934</td>\n",
              "      <td>281</td>\n",
              "      <td>20</td>\n",
              "    </tr>\n",
              "    <tr>\n",
              "      <th>6/7/2020</th>\n",
              "      <td>2020</td>\n",
              "      <td>344</td>\n",
              "      <td>27</td>\n",
              "    </tr>\n",
              "    <tr>\n",
              "      <th>6/8/2020</th>\n",
              "      <td>2156</td>\n",
              "      <td>361</td>\n",
              "      <td>27</td>\n",
              "    </tr>\n",
              "    <tr>\n",
              "      <th>6/9/2020</th>\n",
              "      <td>2336</td>\n",
              "      <td>379</td>\n",
              "      <td>32</td>\n",
              "    </tr>\n",
              "  </tbody>\n",
              "</table>\n",
              "<p>141 rows × 3 columns</p>\n",
              "</div>"
            ],
            "text/plain": [
              "           Total_cases_Confirmed  Total_Recovered  Deaths\n",
              "Date                                                     \n",
              "1/22/2020                      0                0       0\n",
              "1/23/2020                      0                0       0\n",
              "1/24/2020                      0                0       0\n",
              "1/25/2020                      0                0       0\n",
              "1/26/2020                      0                0       0\n",
              "...                          ...              ...     ...\n",
              "6/5/2020                    1805              262      19\n",
              "6/6/2020                    1934              281      20\n",
              "6/7/2020                    2020              344      27\n",
              "6/8/2020                    2156              361      27\n",
              "6/9/2020                    2336              379      32\n",
              "\n",
              "[141 rows x 3 columns]"
            ]
          },
          "metadata": {
            "tags": []
          },
          "execution_count": 160
        }
      ]
    },
    {
      "cell_type": "code",
      "metadata": {
        "id": "tT9otC2x1G1F",
        "colab_type": "code",
        "colab": {}
      },
      "source": [
        "#the following segment shows day by day ups and downs of confirmed, recovered and death cases\n",
        "data_by_date=time_series.groupby(['cases_date']).sum().reset_index(drop=None)"
      ],
      "execution_count": 0,
      "outputs": []
    },
    {
      "cell_type": "markdown",
      "metadata": {
        "id": "lh0AlK1rWLrh",
        "colab_type": "text"
      },
      "source": [
        "# New Section"
      ]
    },
    {
      "cell_type": "code",
      "metadata": {
        "id": "x7KlPYlx1dLR",
        "colab_type": "code",
        "colab": {
          "base_uri": "https://localhost:8080/",
          "height": 85
        },
        "outputId": "67e6bc98-8e01-40c3-9f1b-167130c19c96"
      },
      "source": [
        "data_by_date.columns"
      ],
      "execution_count": 162,
      "outputs": [
        {
          "output_type": "execute_result",
          "data": {
            "text/plain": [
              "Index(['cases_date', 'Lat', 'Long', 'confirmed_per_date',\n",
              "       'Total_cases_Confirmed', 'Recovered_per_date', 'Total_Recovered',\n",
              "       'Deaths_per_date', 'Deaths'],\n",
              "      dtype='object')"
            ]
          },
          "metadata": {
            "tags": []
          },
          "execution_count": 162
        }
      ]
    },
    {
      "cell_type": "code",
      "metadata": {
        "id": "JFcyRXuI1oFH",
        "colab_type": "code",
        "colab": {
          "base_uri": "https://localhost:8080/",
          "height": 609
        },
        "outputId": "517ad811-0d95-4b5d-eda8-50bb02508436"
      },
      "source": [
        "data_by_date[['confirmed_per_date','Recovered_per_date','Deaths_per_date']].plot(kind='line', figsize=(20,10))"
      ],
      "execution_count": 165,
      "outputs": [
        {
          "output_type": "execute_result",
          "data": {
            "text/plain": [
              "<matplotlib.axes._subplots.AxesSubplot at 0x7fbfdf55ec88>"
            ]
          },
          "metadata": {
            "tags": []
          },
          "execution_count": 165
        },
        {
          "output_type": "display_data",
          "data": {
            "image/png": "[encoded data removed]",
            "text/plain": [
              "<Figure size 1440x720 with 1 Axes>"
            ]
          },
          "metadata": {
            "tags": [],
            "needs_background": "light"
          }
        }
      ]
    }
  ]
}